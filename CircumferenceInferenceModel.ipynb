{
  "nbformat": 4,
  "nbformat_minor": 0,
  "metadata": {
    "colab": {
      "name": "CircumferenceInferenceModel.ipynb",
      "provenance": [],
      "authorship_tag": "ABX9TyNYjuCS7EJTSApglTlrzbva",
      "include_colab_link": true
    },
    "kernelspec": {
      "name": "python3",
      "display_name": "Python 3"
    },
    "language_info": {
      "name": "python"
    }
  },
  "cells": [
    {
      "cell_type": "markdown",
      "metadata": {
        "id": "view-in-github",
        "colab_type": "text"
      },
      "source": [
        "<a href=\"https://colab.research.google.com/github/oluwadamiloju/data-science-with-python/blob/main/CircumferenceInferenceModel.ipynb\" target=\"_parent\"><img src=\"https://colab.research.google.com/assets/colab-badge.svg\" alt=\"Open In Colab\"/></a>"
      ]
    },
    {
      "cell_type": "markdown",
      "metadata": {
        "id": "ZDqXs5kUc_q1"
      },
      "source": [
        "a model that takes in radius in centimetres and returns the circumference of the calculator in centimetres squared"
      ]
    },
    {
      "cell_type": "code",
      "metadata": {
        "id": "E5PQQO6xa9x-"
      },
      "source": [
        "# import dependencies\n",
        "import tensorflow as tf\n",
        "import numpy as np\n",
        "import logging\n"
      ],
      "execution_count": 42,
      "outputs": []
    },
    {
      "cell_type": "code",
      "metadata": {
        "id": "Um-6QOGdbYI8"
      },
      "source": [
        "logger = tf.get_logger()\n",
        "logger.setLevel(logging.ERROR)"
      ],
      "execution_count": 43,
      "outputs": []
    },
    {
      "cell_type": "code",
      "metadata": {
        "id": "mbCdaQ9GbcCm"
      },
      "source": [
        "# setting up training data\n",
        "radius_values = np.array([0.25, 2.5, 3.7, 4.2, 5.4, 6, 7.2, 8.1, 9.6, 10.3, 12.4, 18], dtype=float)"
      ],
      "execution_count": 44,
      "outputs": []
    },
    {
      "cell_type": "code",
      "metadata": {
        "id": "ayhCa-P_cWrw"
      },
      "source": [
        "circumference_values = np.array([1.57, 15.71, 23.25, 26.39, 33.93, 37.7, 45.24, 50.89, 60.31, 64.72, 77.91, 113.1], dtype=float)"
      ],
      "execution_count": 45,
      "outputs": []
    },
    {
      "cell_type": "code",
      "metadata": {
        "colab": {
          "base_uri": "https://localhost:8080/"
        },
        "id": "y9pyHi2xc-bg",
        "outputId": "778b158c-5443-44d9-c07c-df66f632a24c"
      },
      "source": [
        "for index, value in enumerate(radius_values):\n",
        "  print('{} cm radius gives {} cm^2 circumference'.format(value, circumference_values[index]))"
      ],
      "execution_count": 46,
      "outputs": [
        {
          "output_type": "stream",
          "name": "stdout",
          "text": [
            "0.25 cm radius gives 1.57 cm^2 circumference\n",
            "2.5 cm radius gives 15.71 cm^2 circumference\n",
            "3.7 cm radius gives 23.25 cm^2 circumference\n",
            "4.2 cm radius gives 26.39 cm^2 circumference\n",
            "5.4 cm radius gives 33.93 cm^2 circumference\n",
            "6.0 cm radius gives 37.7 cm^2 circumference\n",
            "7.2 cm radius gives 45.24 cm^2 circumference\n",
            "8.1 cm radius gives 50.89 cm^2 circumference\n",
            "9.6 cm radius gives 60.31 cm^2 circumference\n",
            "10.3 cm radius gives 64.72 cm^2 circumference\n",
            "12.4 cm radius gives 77.91 cm^2 circumference\n",
            "18.0 cm radius gives 113.1 cm^2 circumference\n"
          ]
        }
      ]
    },
    {
      "cell_type": "code",
      "metadata": {
        "id": "mU_L8s3Id_Gd"
      },
      "source": [
        "# constructing the model\n",
        "layer_0 = tf.keras.layers.Dense(units=1, input_shape=[1])  # the dense layer"
      ],
      "execution_count": 47,
      "outputs": []
    },
    {
      "cell_type": "code",
      "metadata": {
        "id": "Vm5rRanXeJbJ"
      },
      "source": [
        "model = tf.keras.Sequential([layer_0])  # the sequential layer"
      ],
      "execution_count": 48,
      "outputs": []
    },
    {
      "cell_type": "code",
      "metadata": {
        "id": "2v72YFggePNK"
      },
      "source": [
        "# compile the model\n",
        "model.compile(loss='mean_squared_error',\n",
        "              optimizer = tf.keras.optimizers.Adam(0.1))"
      ],
      "execution_count": 49,
      "outputs": []
    },
    {
      "cell_type": "markdown",
      "metadata": {
        "id": "y16O0q05eX7C"
      },
      "source": [
        "training the model\n"
      ]
    },
    {
      "cell_type": "code",
      "metadata": {
        "colab": {
          "base_uri": "https://localhost:8080/"
        },
        "id": "Y27l_yE_eU4o",
        "outputId": "608f849b-2228-49d2-8e04-15428766e8c3"
      },
      "source": [
        "trained_model = model.fit(radius_values, circumference_values, epochs=2000, verbose=False)\n",
        "print(\"Finished training the model\")"
      ],
      "execution_count": 50,
      "outputs": [
        {
          "output_type": "stream",
          "name": "stdout",
          "text": [
            "Finished training the model\n"
          ]
        }
      ]
    },
    {
      "cell_type": "code",
      "metadata": {
        "colab": {
          "base_uri": "https://localhost:8080/",
          "height": 296
        },
        "id": "TA7TypXJefpF",
        "outputId": "4d36a938-8684-4dde-9e92-a718cb5a63c8"
      },
      "source": [
        "import matplotlib.pyplot as plt\n",
        "plt.xlabel('Epoch Number')\n",
        "plt.ylabel(\"Loss Magnitude\")\n",
        "plt.plot(trained_model.history['loss'])"
      ],
      "execution_count": 51,
      "outputs": [
        {
          "output_type": "execute_result",
          "data": {
            "text/plain": [
              "[<matplotlib.lines.Line2D at 0x7f24b8dfd810>]"
            ]
          },
          "metadata": {},
          "execution_count": 51
        },
        {
          "output_type": "display_data",
          "data": {
            "image/png": "[encoded data removed]",
            "text/plain": [
              "<Figure size 432x288 with 1 Axes>"
            ]
          },
          "metadata": {
            "needs_background": "light"
          }
        }
      ]
    },
    {
      "cell_type": "markdown",
      "metadata": {
        "id": "qHIba9nFeqKv"
      },
      "source": [
        "predicting more values with model"
      ]
    },
    {
      "cell_type": "code",
      "metadata": {
        "colab": {
          "base_uri": "https://localhost:8080/"
        },
        "id": "KW2Jek4kekyk",
        "outputId": "6f40bd9a-4aad-4908-cc10-7307908f4637"
      },
      "source": [
        "print(model.predict([1, 4, 8]))"
      ],
      "execution_count": 52,
      "outputs": [
        {
          "output_type": "stream",
          "name": "stdout",
          "text": [
            "[[ 6.2833214]\n",
            " [25.132765 ]\n",
            " [50.265358 ]]\n"
          ]
        }
      ]
    }
  ]
}