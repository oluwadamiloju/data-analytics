{
  "nbformat": 4,
  "nbformat_minor": 0,
  "metadata": {
    "colab": {
      "name": "TemperatureConverterModel.ipynb",
      "provenance": [],
      "authorship_tag": "ABX9TyOwvVe6a0HPRySMvwI5bhFR",
      "include_colab_link": true
    },
    "kernelspec": {
      "name": "python3",
      "display_name": "Python 3"
    },
    "language_info": {
      "name": "python"
    }
  },
  "cells": [
    {
      "cell_type": "markdown",
      "metadata": {
        "id": "view-in-github",
        "colab_type": "text"
      },
      "source": [
        "<a href=\"https://colab.research.google.com/github/oluwadamiloju/data-science-with-python/blob/main/TemperatureConverterModel.ipynb\" target=\"_parent\"><img src=\"https://colab.research.google.com/assets/colab-badge.svg\" alt=\"Open In Colab\"/></a>"
      ]
    },
    {
      "cell_type": "code",
      "metadata": {
        "id": "900nTADRhBRU"
      },
      "source": [
        "import tensorflow as tf"
      ],
      "execution_count": 21,
      "outputs": []
    },
    {
      "cell_type": "code",
      "metadata": {
        "id": "oCCZasaRjPLw"
      },
      "source": [
        "import numpy as np"
      ],
      "execution_count": 22,
      "outputs": []
    },
    {
      "cell_type": "code",
      "metadata": {
        "id": "fonFexyKkv3g"
      },
      "source": [
        "import logging"
      ],
      "execution_count": 23,
      "outputs": []
    },
    {
      "cell_type": "code",
      "metadata": {
        "id": "X_AZo-x6jVHL"
      },
      "source": [
        "logger = tf.get_logger()\n",
        "logger.setLevel(logging.ERROR)"
      ],
      "execution_count": 24,
      "outputs": []
    },
    {
      "cell_type": "markdown",
      "metadata": {
        "id": "vnJeUXo9pR7T"
      },
      "source": [
        "set up training data"
      ]
    },
    {
      "cell_type": "code",
      "metadata": {
        "id": "5pR6le6Jkz9A"
      },
      "source": [
        "celsius_values = np.array([-28, 23, 12.5, 16])"
      ],
      "execution_count": 25,
      "outputs": []
    },
    {
      "cell_type": "code",
      "metadata": {
        "id": "yLwwPzM4k0mL"
      },
      "source": [
        "fahrenheit_values = np.array([-18.4, 73.4, 54.5, 60.8])"
      ],
      "execution_count": 26,
      "outputs": []
    },
    {
      "cell_type": "code",
      "metadata": {
        "colab": {
          "base_uri": "https://localhost:8080/"
        },
        "id": "QijIU1OpmFtx",
        "outputId": "c84ac3ae-0e3e-4552-a11b-7bda9668db82"
      },
      "source": [
        "for index, value in enumerate(celsius_values):\n",
        "  print('{} celsius is {} fahrenheit'.format(value, fahrenheit_values[index]))"
      ],
      "execution_count": 27,
      "outputs": [
        {
          "output_type": "stream",
          "name": "stdout",
          "text": [
            "-28.0 celsius is -18.4 fahrenheit\n",
            "23.0 celsius is 73.4 fahrenheit\n",
            "12.5 celsius is 54.5 fahrenheit\n",
            "16.0 celsius is 60.8 fahrenheit\n"
          ]
        }
      ]
    },
    {
      "cell_type": "markdown",
      "metadata": {
        "id": "Y8zBnQf_tuhG"
      },
      "source": [
        "Constructing the model\n"
      ]
    },
    {
      "cell_type": "code",
      "metadata": {
        "id": "p5f8receon5E"
      },
      "source": [
        "# the dense layer\n",
        "layer_0 = tf.keras.layers.Dense(units=1, input_shape=[1])"
      ],
      "execution_count": 28,
      "outputs": []
    },
    {
      "cell_type": "code",
      "metadata": {
        "id": "LsRFJQe_ooOK"
      },
      "source": [
        "# the sequential layer\n",
        "model = tf.keras.Sequential([layer_0])"
      ],
      "execution_count": 29,
      "outputs": []
    },
    {
      "cell_type": "code",
      "metadata": {
        "id": "pyW3fBxgudFJ"
      },
      "source": [
        "# compile the model\n",
        "model.compile(loss='mean_squared_error',\n",
        "              optimizer = tf.keras.optimizers.Adam(0.1))"
      ],
      "execution_count": 30,
      "outputs": []
    },
    {
      "cell_type": "markdown",
      "metadata": {
        "id": "M1HxmqzjPUbl"
      },
      "source": [
        "training the model"
      ]
    },
    {
      "cell_type": "code",
      "metadata": {
        "colab": {
          "base_uri": "https://localhost:8080/"
        },
        "id": "-4Z8ltVUvpws",
        "outputId": "d9ebb179-37c3-4dde-f14b-6ff971980c8a"
      },
      "source": [
        "trained_model = model.fit(celsius_values, fahrenheit_values, epochs=500, verbose=False)\n",
        "print(\"Finished training the model\")"
      ],
      "execution_count": 31,
      "outputs": [
        {
          "output_type": "stream",
          "name": "stdout",
          "text": [
            "Finished training the model\n"
          ]
        }
      ]
    },
    {
      "cell_type": "code",
      "metadata": {
        "colab": {
          "base_uri": "https://localhost:8080/",
          "height": 297
        },
        "id": "e2HAosZJQ2iu",
        "outputId": "bd20eae0-1fda-43c4-c169-40f10a209f3a"
      },
      "source": [
        "import matplotlib.pyplot as plt\n",
        "plt.xlabel('Epoch Number')\n",
        "plt.ylabel(\"Loss Magnitude\")\n",
        "plt.plot(trained_model.history['loss'])"
      ],
      "execution_count": 32,
      "outputs": [
        {
          "output_type": "execute_result",
          "data": {
            "text/plain": [
              "[<matplotlib.lines.Line2D at 0x7f36cedcf390>]"
            ]
          },
          "metadata": {},
          "execution_count": 32
        },
        {
          "output_type": "display_data",
          "data": {
            "image/png": "[encoded data removed]",
            "text/plain": [
              "<Figure size 432x288 with 1 Axes>"
            ]
          },
          "metadata": {
            "needs_background": "light"
          }
        }
      ]
    },
    {
      "cell_type": "markdown",
      "metadata": {
        "id": "xDwdjNWFXON9"
      },
      "source": [
        "predict value with model"
      ]
    },
    {
      "cell_type": "code",
      "metadata": {
        "colab": {
          "base_uri": "https://localhost:8080/"
        },
        "id": "uC2LX4m-XHlr",
        "outputId": "ea31bc29-c70b-47ce-8690-b4aa798dedf2"
      },
      "source": [
        "print(model.predict([25, 50, 75, 100]))"
      ],
      "execution_count": 37,
      "outputs": [
        {
          "output_type": "stream",
          "name": "stdout",
          "text": [
            "[[ 75.056114]\n",
            " [121.07811 ]\n",
            " [167.10011 ]\n",
            " [213.12212 ]]\n"
          ]
        }
      ]
    }
  ]
}