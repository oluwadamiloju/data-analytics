{
  "nbformat": 4,
  "nbformat_minor": 0,
  "metadata": {
    "colab": {
      "name": "group_work.ipynb",
      "provenance": [],
      "collapsed_sections": [],
      "authorship_tag": "ABX9TyM3+4g6K6hIBy3mrZnBkaxT",
      "include_colab_link": true
    },
    "kernelspec": {
      "name": "python3",
      "display_name": "Python 3"
    },
    "language_info": {
      "name": "python"
    }
  },
  "cells": [
    {
      "cell_type": "markdown",
      "metadata": {
        "id": "view-in-github",
        "colab_type": "text"
      },
      "source": [
        "<a href=\"https://colab.research.google.com/github/oluwadamiloju/intro-to-data-analytics/blob/main/group_work.ipynb\" target=\"_parent\"><img src=\"https://colab.research.google.com/assets/colab-badge.svg\" alt=\"Open In Colab\"/></a>"
      ]
    },
    {
      "cell_type": "code",
      "metadata": {
        "id": "1ZN6_RQRYk7C"
      },
      "source": [
        "# to create our dataframe, first we import the pandas library\n",
        "import pandas as pd"
      ],
      "execution_count": null,
      "outputs": []
    },
    {
      "cell_type": "code",
      "metadata": {
        "id": "FceRyKUXdOLq"
      },
      "source": [
        "# next, we'll read our file which we have already imported and assign it \n",
        "# to a variable and make our index column the name column\n",
        "df = pd.read_csv(\"cereal.csv\", index_col=\"name\")"
      ],
      "execution_count": null,
      "outputs": []
    },
    {
      "cell_type": "code",
      "metadata": {
        "colab": {
          "base_uri": "https://localhost:8080/",
          "height": 237
        },
        "id": "c4pRDPDfdzt-",
        "outputId": "2de07815-1fde-454d-ca5d-0ead2334e34e"
      },
      "source": [
        "# to check the first five rows of our dataframe\n",
        "df.head()"
      ],
      "execution_count": null,
      "outputs": [
        {
          "output_type": "execute_result",
          "data": {
            "text/html": [
              "<div>\n",
              "<style scoped>\n",
              "    .dataframe tbody tr th:only-of-type {\n",
              "        vertical-align: middle;\n",
              "    }\n",
              "\n",
              "    .dataframe tbody tr th {\n",
              "        vertical-align: top;\n",
              "    }\n",
              "\n",
              "    .dataframe thead th {\n",
              "        text-align: right;\n",
              "    }\n",
              "</style>\n",
              "<table border=\"1\" class=\"dataframe\">\n",
              "  <thead>\n",
              "    <tr style=\"text-align: right;\">\n",
              "      <th></th>\n",
              "      <th>mfr</th>\n",
              "      <th>type</th>\n",
              "      <th>calories</th>\n",
              "      <th>protein</th>\n",
              "      <th>fat</th>\n",
              "      <th>sodium</th>\n",
              "      <th>fiber</th>\n",
              "      <th>carbo</th>\n",
              "      <th>sugars</th>\n",
              "      <th>potass</th>\n",
              "      <th>vitamins</th>\n",
              "      <th>shelf</th>\n",
              "      <th>weight</th>\n",
              "      <th>cups</th>\n",
              "      <th>rating</th>\n",
              "    </tr>\n",
              "    <tr>\n",
              "      <th>name</th>\n",
              "      <th></th>\n",
              "      <th></th>\n",
              "      <th></th>\n",
              "      <th></th>\n",
              "      <th></th>\n",
              "      <th></th>\n",
              "      <th></th>\n",
              "      <th></th>\n",
              "      <th></th>\n",
              "      <th></th>\n",
              "      <th></th>\n",
              "      <th></th>\n",
              "      <th></th>\n",
              "      <th></th>\n",
              "      <th></th>\n",
              "    </tr>\n",
              "  </thead>\n",
              "  <tbody>\n",
              "    <tr>\n",
              "      <th>100% Bran</th>\n",
              "      <td>N</td>\n",
              "      <td>C</td>\n",
              "      <td>70</td>\n",
              "      <td>4</td>\n",
              "      <td>1</td>\n",
              "      <td>130</td>\n",
              "      <td>10.0</td>\n",
              "      <td>5.0</td>\n",
              "      <td>6</td>\n",
              "      <td>280</td>\n",
              "      <td>25</td>\n",
              "      <td>3</td>\n",
              "      <td>1.0</td>\n",
              "      <td>0.33</td>\n",
              "      <td>68.402973</td>\n",
              "    </tr>\n",
              "    <tr>\n",
              "      <th>100% Natural Bran</th>\n",
              "      <td>Q</td>\n",
              "      <td>C</td>\n",
              "      <td>120</td>\n",
              "      <td>3</td>\n",
              "      <td>5</td>\n",
              "      <td>15</td>\n",
              "      <td>2.0</td>\n",
              "      <td>8.0</td>\n",
              "      <td>8</td>\n",
              "      <td>135</td>\n",
              "      <td>0</td>\n",
              "      <td>3</td>\n",
              "      <td>1.0</td>\n",
              "      <td>1.00</td>\n",
              "      <td>33.983679</td>\n",
              "    </tr>\n",
              "    <tr>\n",
              "      <th>All-Bran</th>\n",
              "      <td>K</td>\n",
              "      <td>C</td>\n",
              "      <td>70</td>\n",
              "      <td>4</td>\n",
              "      <td>1</td>\n",
              "      <td>260</td>\n",
              "      <td>9.0</td>\n",
              "      <td>7.0</td>\n",
              "      <td>5</td>\n",
              "      <td>320</td>\n",
              "      <td>25</td>\n",
              "      <td>3</td>\n",
              "      <td>1.0</td>\n",
              "      <td>0.33</td>\n",
              "      <td>59.425505</td>\n",
              "    </tr>\n",
              "    <tr>\n",
              "      <th>All-Bran with Extra Fiber</th>\n",
              "      <td>K</td>\n",
              "      <td>C</td>\n",
              "      <td>50</td>\n",
              "      <td>4</td>\n",
              "      <td>0</td>\n",
              "      <td>140</td>\n",
              "      <td>14.0</td>\n",
              "      <td>8.0</td>\n",
              "      <td>0</td>\n",
              "      <td>330</td>\n",
              "      <td>25</td>\n",
              "      <td>3</td>\n",
              "      <td>1.0</td>\n",
              "      <td>0.50</td>\n",
              "      <td>93.704912</td>\n",
              "    </tr>\n",
              "    <tr>\n",
              "      <th>Almond Delight</th>\n",
              "      <td>R</td>\n",
              "      <td>C</td>\n",
              "      <td>110</td>\n",
              "      <td>2</td>\n",
              "      <td>2</td>\n",
              "      <td>200</td>\n",
              "      <td>1.0</td>\n",
              "      <td>14.0</td>\n",
              "      <td>8</td>\n",
              "      <td>-1</td>\n",
              "      <td>25</td>\n",
              "      <td>3</td>\n",
              "      <td>1.0</td>\n",
              "      <td>0.75</td>\n",
              "      <td>34.384843</td>\n",
              "    </tr>\n",
              "  </tbody>\n",
              "</table>\n",
              "</div>"
            ],
            "text/plain": [
              "                          mfr type  calories  ...  weight  cups     rating\n",
              "name                                          ...                         \n",
              "100% Bran                   N    C        70  ...     1.0  0.33  68.402973\n",
              "100% Natural Bran           Q    C       120  ...     1.0  1.00  33.983679\n",
              "All-Bran                    K    C        70  ...     1.0  0.33  59.425505\n",
              "All-Bran with Extra Fiber   K    C        50  ...     1.0  0.50  93.704912\n",
              "Almond Delight              R    C       110  ...     1.0  0.75  34.384843\n",
              "\n",
              "[5 rows x 15 columns]"
            ]
          },
          "metadata": {
            "tags": []
          },
          "execution_count": 33
        }
      ]
    },
    {
      "cell_type": "code",
      "metadata": {
        "colab": {
          "base_uri": "https://localhost:8080/",
          "height": 237
        },
        "id": "bX-SpOXAekUC",
        "outputId": "3852b1c9-a3d8-48da-def9-a90acc5b99e1"
      },
      "source": [
        "# to check the last five rows of our dataframe\n",
        "\n",
        "df.tail()"
      ],
      "execution_count": null,
      "outputs": [
        {
          "output_type": "execute_result",
          "data": {
            "text/html": [
              "<div>\n",
              "<style scoped>\n",
              "    .dataframe tbody tr th:only-of-type {\n",
              "        vertical-align: middle;\n",
              "    }\n",
              "\n",
              "    .dataframe tbody tr th {\n",
              "        vertical-align: top;\n",
              "    }\n",
              "\n",
              "    .dataframe thead th {\n",
              "        text-align: right;\n",
              "    }\n",
              "</style>\n",
              "<table border=\"1\" class=\"dataframe\">\n",
              "  <thead>\n",
              "    <tr style=\"text-align: right;\">\n",
              "      <th></th>\n",
              "      <th>mfr</th>\n",
              "      <th>type</th>\n",
              "      <th>calories</th>\n",
              "      <th>protein</th>\n",
              "      <th>fat</th>\n",
              "      <th>sodium</th>\n",
              "      <th>fiber</th>\n",
              "      <th>carbo</th>\n",
              "      <th>sugars</th>\n",
              "      <th>potass</th>\n",
              "      <th>vitamins</th>\n",
              "      <th>shelf</th>\n",
              "      <th>weight</th>\n",
              "      <th>cups</th>\n",
              "      <th>rating</th>\n",
              "    </tr>\n",
              "    <tr>\n",
              "      <th>name</th>\n",
              "      <th></th>\n",
              "      <th></th>\n",
              "      <th></th>\n",
              "      <th></th>\n",
              "      <th></th>\n",
              "      <th></th>\n",
              "      <th></th>\n",
              "      <th></th>\n",
              "      <th></th>\n",
              "      <th></th>\n",
              "      <th></th>\n",
              "      <th></th>\n",
              "      <th></th>\n",
              "      <th></th>\n",
              "      <th></th>\n",
              "    </tr>\n",
              "  </thead>\n",
              "  <tbody>\n",
              "    <tr>\n",
              "      <th>Triples</th>\n",
              "      <td>G</td>\n",
              "      <td>C</td>\n",
              "      <td>110</td>\n",
              "      <td>2</td>\n",
              "      <td>1</td>\n",
              "      <td>250</td>\n",
              "      <td>0.0</td>\n",
              "      <td>21.0</td>\n",
              "      <td>3</td>\n",
              "      <td>60</td>\n",
              "      <td>25</td>\n",
              "      <td>3</td>\n",
              "      <td>1.0</td>\n",
              "      <td>0.75</td>\n",
              "      <td>39.106174</td>\n",
              "    </tr>\n",
              "    <tr>\n",
              "      <th>Trix</th>\n",
              "      <td>G</td>\n",
              "      <td>C</td>\n",
              "      <td>110</td>\n",
              "      <td>1</td>\n",
              "      <td>1</td>\n",
              "      <td>140</td>\n",
              "      <td>0.0</td>\n",
              "      <td>13.0</td>\n",
              "      <td>12</td>\n",
              "      <td>25</td>\n",
              "      <td>25</td>\n",
              "      <td>2</td>\n",
              "      <td>1.0</td>\n",
              "      <td>1.00</td>\n",
              "      <td>27.753301</td>\n",
              "    </tr>\n",
              "    <tr>\n",
              "      <th>Wheat Chex</th>\n",
              "      <td>R</td>\n",
              "      <td>C</td>\n",
              "      <td>100</td>\n",
              "      <td>3</td>\n",
              "      <td>1</td>\n",
              "      <td>230</td>\n",
              "      <td>3.0</td>\n",
              "      <td>17.0</td>\n",
              "      <td>3</td>\n",
              "      <td>115</td>\n",
              "      <td>25</td>\n",
              "      <td>1</td>\n",
              "      <td>1.0</td>\n",
              "      <td>0.67</td>\n",
              "      <td>49.787445</td>\n",
              "    </tr>\n",
              "    <tr>\n",
              "      <th>Wheaties</th>\n",
              "      <td>G</td>\n",
              "      <td>C</td>\n",
              "      <td>100</td>\n",
              "      <td>3</td>\n",
              "      <td>1</td>\n",
              "      <td>200</td>\n",
              "      <td>3.0</td>\n",
              "      <td>17.0</td>\n",
              "      <td>3</td>\n",
              "      <td>110</td>\n",
              "      <td>25</td>\n",
              "      <td>1</td>\n",
              "      <td>1.0</td>\n",
              "      <td>1.00</td>\n",
              "      <td>51.592193</td>\n",
              "    </tr>\n",
              "    <tr>\n",
              "      <th>Wheaties Honey Gold</th>\n",
              "      <td>G</td>\n",
              "      <td>C</td>\n",
              "      <td>110</td>\n",
              "      <td>2</td>\n",
              "      <td>1</td>\n",
              "      <td>200</td>\n",
              "      <td>1.0</td>\n",
              "      <td>16.0</td>\n",
              "      <td>8</td>\n",
              "      <td>60</td>\n",
              "      <td>25</td>\n",
              "      <td>1</td>\n",
              "      <td>1.0</td>\n",
              "      <td>0.75</td>\n",
              "      <td>36.187559</td>\n",
              "    </tr>\n",
              "  </tbody>\n",
              "</table>\n",
              "</div>"
            ],
            "text/plain": [
              "                    mfr type  calories  protein  ...  shelf  weight  cups     rating\n",
              "name                                             ...                                \n",
              "Triples               G    C       110        2  ...      3     1.0  0.75  39.106174\n",
              "Trix                  G    C       110        1  ...      2     1.0  1.00  27.753301\n",
              "Wheat Chex            R    C       100        3  ...      1     1.0  0.67  49.787445\n",
              "Wheaties              G    C       100        3  ...      1     1.0  1.00  51.592193\n",
              "Wheaties Honey Gold   G    C       110        2  ...      1     1.0  0.75  36.187559\n",
              "\n",
              "[5 rows x 15 columns]"
            ]
          },
          "metadata": {
            "tags": []
          },
          "execution_count": 34
        }
      ]
    },
    {
      "cell_type": "code",
      "metadata": {
        "colab": {
          "base_uri": "https://localhost:8080/"
        },
        "id": "at3BQZSlexkR",
        "outputId": "9c796577-a97d-419a-9e78-7f953ea65b98"
      },
      "source": [
        "#  to check the total number of series and rows in our dataframe\n",
        "\n",
        "df.shape"
      ],
      "execution_count": null,
      "outputs": [
        {
          "output_type": "execute_result",
          "data": {
            "text/plain": [
              "(77, 15)"
            ]
          },
          "metadata": {
            "tags": []
          },
          "execution_count": 35
        }
      ]
    },
    {
      "cell_type": "code",
      "metadata": {
        "id": "Mqe6hiRIruPS"
      },
      "source": [
        "# to extract out carbs column\n",
        "\n",
        "carb = df['carbo']"
      ],
      "execution_count": null,
      "outputs": []
    },
    {
      "cell_type": "code",
      "metadata": {
        "colab": {
          "base_uri": "https://localhost:8080/",
          "height": 237
        },
        "id": "1HuUPUY-fwUn",
        "outputId": "8f37ae68-8a4d-4335-ec74-a53b20e7342f"
      },
      "source": [
        "# to get the first five rows of our carbs columm\n",
        "carb.head()"
      ],
      "execution_count": null,
      "outputs": [
        {
          "output_type": "execute_result",
          "data": {
            "text/html": [
              "<div>\n",
              "<style scoped>\n",
              "    .dataframe tbody tr th:only-of-type {\n",
              "        vertical-align: middle;\n",
              "    }\n",
              "\n",
              "    .dataframe tbody tr th {\n",
              "        vertical-align: top;\n",
              "    }\n",
              "\n",
              "    .dataframe thead th {\n",
              "        text-align: right;\n",
              "    }\n",
              "</style>\n",
              "<table border=\"1\" class=\"dataframe\">\n",
              "  <thead>\n",
              "    <tr style=\"text-align: right;\">\n",
              "      <th></th>\n",
              "      <th>carbo</th>\n",
              "    </tr>\n",
              "    <tr>\n",
              "      <th>name</th>\n",
              "      <th></th>\n",
              "    </tr>\n",
              "  </thead>\n",
              "  <tbody>\n",
              "    <tr>\n",
              "      <th>100% Bran</th>\n",
              "      <td>5.0</td>\n",
              "    </tr>\n",
              "    <tr>\n",
              "      <th>100% Natural Bran</th>\n",
              "      <td>8.0</td>\n",
              "    </tr>\n",
              "    <tr>\n",
              "      <th>All-Bran</th>\n",
              "      <td>7.0</td>\n",
              "    </tr>\n",
              "    <tr>\n",
              "      <th>All-Bran with Extra Fiber</th>\n",
              "      <td>8.0</td>\n",
              "    </tr>\n",
              "    <tr>\n",
              "      <th>Almond Delight</th>\n",
              "      <td>14.0</td>\n",
              "    </tr>\n",
              "  </tbody>\n",
              "</table>\n",
              "</div>"
            ],
            "text/plain": [
              "                           carbo\n",
              "name                            \n",
              "100% Bran                    5.0\n",
              "100% Natural Bran            8.0\n",
              "All-Bran                     7.0\n",
              "All-Bran with Extra Fiber    8.0\n",
              "Almond Delight              14.0"
            ]
          },
          "metadata": {
            "tags": []
          },
          "execution_count": 39
        }
      ]
    },
    {
      "cell_type": "code",
      "metadata": {
        "id": "if_5INe-iWQa"
      },
      "source": [
        "# to get our top 5 richest cereals in terms of carbohydrates,\n",
        "\n",
        "richest_carbs = carb.sort_values(['carbo']).tail()"
      ],
      "execution_count": null,
      "outputs": []
    },
    {
      "cell_type": "code",
      "metadata": {
        "colab": {
          "base_uri": "https://localhost:8080/",
          "height": 237
        },
        "id": "Qb5UUBc-je_4",
        "outputId": "da2e9367-84b5-4453-eff0-cbf5a1274b32"
      },
      "source": [
        "richest_carbs"
      ],
      "execution_count": null,
      "outputs": [
        {
          "output_type": "execute_result",
          "data": {
            "text/html": [
              "<div>\n",
              "<style scoped>\n",
              "    .dataframe tbody tr th:only-of-type {\n",
              "        vertical-align: middle;\n",
              "    }\n",
              "\n",
              "    .dataframe tbody tr th {\n",
              "        vertical-align: top;\n",
              "    }\n",
              "\n",
              "    .dataframe thead th {\n",
              "        text-align: right;\n",
              "    }\n",
              "</style>\n",
              "<table border=\"1\" class=\"dataframe\">\n",
              "  <thead>\n",
              "    <tr style=\"text-align: right;\">\n",
              "      <th></th>\n",
              "      <th>carbo</th>\n",
              "    </tr>\n",
              "    <tr>\n",
              "      <th>name</th>\n",
              "      <th></th>\n",
              "    </tr>\n",
              "  </thead>\n",
              "  <tbody>\n",
              "    <tr>\n",
              "      <th>Kix</th>\n",
              "      <td>21.0</td>\n",
              "    </tr>\n",
              "    <tr>\n",
              "      <th>Nutri-Grain Almond-Raisin</th>\n",
              "      <td>21.0</td>\n",
              "    </tr>\n",
              "    <tr>\n",
              "      <th>Corn Chex</th>\n",
              "      <td>22.0</td>\n",
              "    </tr>\n",
              "    <tr>\n",
              "      <th>Rice Krispies</th>\n",
              "      <td>22.0</td>\n",
              "    </tr>\n",
              "    <tr>\n",
              "      <th>Rice Chex</th>\n",
              "      <td>23.0</td>\n",
              "    </tr>\n",
              "  </tbody>\n",
              "</table>\n",
              "</div>"
            ],
            "text/plain": [
              "                           carbo\n",
              "name                            \n",
              "Kix                         21.0\n",
              "Nutri-Grain Almond-Raisin   21.0\n",
              "Corn Chex                   22.0\n",
              "Rice Krispies               22.0\n",
              "Rice Chex                   23.0"
            ]
          },
          "metadata": {
            "tags": []
          },
          "execution_count": 43
        }
      ]
    },
    {
      "cell_type": "code",
      "metadata": {
        "colab": {
          "base_uri": "https://localhost:8080/",
          "height": 434
        },
        "id": "WM27omexjqpo",
        "outputId": "940c0030-ac10-4e33-9fc9-60c9fc985bc8"
      },
      "source": [
        "# barchart for better visualization on the richest cereals\n",
        "\n",
        "richest_carbs.plot(kind='bar', title=\"Richest carbohydrate cereals\")"
      ],
      "execution_count": 79,
      "outputs": [
        {
          "output_type": "execute_result",
          "data": {
            "text/plain": [
              "<matplotlib.axes._subplots.AxesSubplot at 0x7fe9c104c490>"
            ]
          },
          "metadata": {
            "tags": []
          },
          "execution_count": 79
        },
        {
          "output_type": "display_data",
          "data": {
            "image/png": "[encoded data removed]",
            "text/plain": [
              "<Figure size 432x288 with 1 Axes>"
            ]
          },
          "metadata": {
            "tags": [],
            "needs_background": "light"
          }
        }
      ]
    },
    {
      "cell_type": "markdown",
      "metadata": {
        "id": "x9hSr6rdoISW"
      },
      "source": [
        "the barchart shows each cereal and their corresponding carbohydrate values"
      ]
    },
    {
      "cell_type": "code",
      "metadata": {
        "colab": {
          "base_uri": "https://localhost:8080/",
          "height": 299
        },
        "id": "5zx-9vYgnmWt",
        "outputId": "2809a248-1158-4e98-d45f-46cf9c33f374"
      },
      "source": [
        "# histogram for better visualization on the richest cereals\n",
        "\n",
        "richest_carbs.plot(kind='hist', title=\"Richest carbohydrate cereals\")"
      ],
      "execution_count": 78,
      "outputs": [
        {
          "output_type": "execute_result",
          "data": {
            "text/plain": [
              "<matplotlib.axes._subplots.AxesSubplot at 0x7fe9c1045950>"
            ]
          },
          "metadata": {
            "tags": []
          },
          "execution_count": 78
        },
        {
          "output_type": "display_data",
          "data": {
            "image/png": "[encoded data removed]",
            "text/plain": [
              "<Figure size 432x288 with 1 Axes>"
            ]
          },
          "metadata": {
            "tags": [],
            "needs_background": "light"
          }
        }
      ]
    },
    {
      "cell_type": "markdown",
      "metadata": {
        "id": "uxDnU9AkoPJE"
      },
      "source": [
        "the histogram shows the number of times (frequency) the values for the richest cereals appear. Kix and Nutri-Grain Almond-Raisin have values of 21.0 each giving a frequency of 2, Corn Chex and Rice Krispies have values of 22.0 each giving a frequency of 2 and Rice Chex has a value of 23.0 giving a frequency of 1"
      ]
    },
    {
      "cell_type": "code",
      "metadata": {
        "colab": {
          "base_uri": "https://localhost:8080/",
          "height": 466
        },
        "id": "p23q9w2XsNyQ",
        "outputId": "9f044102-eec2-44a4-eec5-207c5ad50877"
      },
      "source": [
        "# piechart to show the fraction of the carb values each of the top 5 \n",
        "# richest cereal has\n",
        "\n",
        "plot = richest_carbs.plot.pie(y='carbo', figsize=(8,8))"
      ],
      "execution_count": 71,
      "outputs": [
        {
          "output_type": "display_data",
          "data": {
            "image/png": "[encoded data removed]",
            "text/plain": [
              "<Figure size 576x576 with 1 Axes>"
            ]
          },
          "metadata": {
            "tags": []
          }
        }
      ]
    },
    {
      "cell_type": "code",
      "metadata": {
        "id": "2JQn8iThq_Gk"
      },
      "source": [
        "# to extract our protein column \n",
        "\n",
        "protein = df['protein']"
      ],
      "execution_count": null,
      "outputs": []
    },
    {
      "cell_type": "code",
      "metadata": {
        "id": "Uyn0pbmGyNV5"
      },
      "source": [
        "# to get our top 5 richest cereals in terms of protein,\n",
        "\n",
        "richest_prot = protein.sort_values().tail()"
      ],
      "execution_count": 68,
      "outputs": []
    },
    {
      "cell_type": "code",
      "metadata": {
        "colab": {
          "base_uri": "https://localhost:8080/"
        },
        "id": "CbrA80Gzyg4I",
        "outputId": "3dc477a1-491c-48ba-eeaf-2381dd11ad89"
      },
      "source": [
        "richest_prot"
      ],
      "execution_count": 69,
      "outputs": [
        {
          "output_type": "execute_result",
          "data": {
            "text/plain": [
              "name\n",
              "All-Bran          4\n",
              "100% Bran         4\n",
              "Quaker Oatmeal    5\n",
              "Special K         6\n",
              "Cheerios          6\n",
              "Name: protein, dtype: int64"
            ]
          },
          "metadata": {
            "tags": []
          },
          "execution_count": 69
        }
      ]
    },
    {
      "cell_type": "code",
      "metadata": {
        "colab": {
          "base_uri": "https://localhost:8080/",
          "height": 385
        },
        "id": "YPNSkOGryrjJ",
        "outputId": "5ff4fac4-8269-46db-e225-c3b9aaad4387"
      },
      "source": [
        "# barchart for better visualization on the richest cereals\n",
        "\n",
        "richest_prot.plot(kind='bar', title=\"Richest protein cereals\")"
      ],
      "execution_count": 77,
      "outputs": [
        {
          "output_type": "execute_result",
          "data": {
            "text/plain": [
              "<matplotlib.axes._subplots.AxesSubplot at 0x7fe9c10e2bd0>"
            ]
          },
          "metadata": {
            "tags": []
          },
          "execution_count": 77
        },
        {
          "output_type": "display_data",
          "data": {
            "image/png": "[encoded data removed]",
            "text/plain": [
              "<Figure size 432x288 with 1 Axes>"
            ]
          },
          "metadata": {
            "tags": [],
            "needs_background": "light"
          }
        }
      ]
    },
    {
      "cell_type": "markdown",
      "metadata": {
        "id": "EZpN3f8hy7rI"
      },
      "source": [
        "the barchart shows each cereal and their corresponding protein values"
      ]
    },
    {
      "cell_type": "code",
      "metadata": {
        "colab": {
          "base_uri": "https://localhost:8080/",
          "height": 299
        },
        "id": "bjsCHYP6y_05",
        "outputId": "319772d9-5b02-4e05-cb47-73fe26a6432b"
      },
      "source": [
        "# histogram for better visualization on the richest cereals\n",
        "\n",
        "richest_prot.plot(kind='hist', title=\"Richest protein cereals\")"
      ],
      "execution_count": 76,
      "outputs": [
        {
          "output_type": "execute_result",
          "data": {
            "text/plain": [
              "<matplotlib.axes._subplots.AxesSubplot at 0x7fe9c119b090>"
            ]
          },
          "metadata": {
            "tags": []
          },
          "execution_count": 76
        },
        {
          "output_type": "display_data",
          "data": {
            "image/png": "[encoded data removed]",
            "text/plain": [
              "<Figure size 432x288 with 1 Axes>"
            ]
          },
          "metadata": {
            "tags": [],
            "needs_background": "light"
          }
        }
      ]
    },
    {
      "cell_type": "code",
      "metadata": {
        "colab": {
          "base_uri": "https://localhost:8080/",
          "height": 466
        },
        "id": "62udGMZN1eok",
        "outputId": "f824794e-a128-4043-d69c-4a6811b09f33"
      },
      "source": [
        "# piechart to show the fraction of the protein values each of the top 5 \n",
        "# richest cereal has\n",
        "\n",
        "plot_2 = richest_prot.plot.pie(y='protein', figsize=(8,8))"
      ],
      "execution_count": 80,
      "outputs": [
        {
          "output_type": "display_data",
          "data": {
            "image/png": "[encoded data removed]",
            "text/plain": [
              "<Figure size 576x576 with 1 Axes>"
            ]
          },
          "metadata": {
            "tags": []
          }
        }
      ]
    },
    {
      "cell_type": "code",
      "metadata": {
        "id": "eocuvlF82W4F"
      },
      "source": [
        "# to extract our potassium and sodium columns,\n",
        "\n",
        "potassium = df['potass']\n",
        "sodium = df['sodium']"
      ],
      "execution_count": 84,
      "outputs": []
    },
    {
      "cell_type": "code",
      "metadata": {
        "id": "J88pXeix2-y2"
      },
      "source": [
        "# to get our top 5 richest cereals in terms of potassium,\n",
        "\n",
        "rich_in_potassium  = potassium.sort_values().tail()"
      ],
      "execution_count": 86,
      "outputs": []
    },
    {
      "cell_type": "code",
      "metadata": {
        "colab": {
          "base_uri": "https://localhost:8080/"
        },
        "id": "wMzjE7J64y0G",
        "outputId": "0a62f09c-28fb-481b-c6ae-b46cd5566a47"
      },
      "source": [
        "rich_in_potassium"
      ],
      "execution_count": 88,
      "outputs": [
        {
          "output_type": "execute_result",
          "data": {
            "text/plain": [
              "name\n",
              "Raisin Bran                  240\n",
              "Post Nat. Raisin Bran        260\n",
              "100% Bran                    280\n",
              "All-Bran                     320\n",
              "All-Bran with Extra Fiber    330\n",
              "Name: potass, dtype: int64"
            ]
          },
          "metadata": {
            "tags": []
          },
          "execution_count": 88
        }
      ]
    },
    {
      "cell_type": "code",
      "metadata": {
        "id": "BwyfNWGG4lgk"
      },
      "source": [
        "# to get our top 5 richest cereals in terms of sodium,\n",
        "\n",
        "rich_in_sodium = sodium.sort_values().tail()"
      ],
      "execution_count": 87,
      "outputs": []
    },
    {
      "cell_type": "code",
      "metadata": {
        "colab": {
          "base_uri": "https://localhost:8080/"
        },
        "id": "MKtscsyr49BL",
        "outputId": "3832a541-baca-4bec-fcdf-d46c819d1772"
      },
      "source": [
        "rich_in_sodium"
      ],
      "execution_count": 89,
      "outputs": [
        {
          "output_type": "execute_result",
          "data": {
            "text/plain": [
              "name\n",
              "Corn Chex        280\n",
              "Corn Flakes      290\n",
              "Rice Krispies    290\n",
              "Cheerios         290\n",
              "Product 19       320\n",
              "Name: sodium, dtype: int64"
            ]
          },
          "metadata": {
            "tags": []
          },
          "execution_count": 89
        }
      ]
    },
    {
      "cell_type": "code",
      "metadata": {
        "id": "wFQvUv3g5Tvk"
      },
      "source": [
        "# to extract the cereals with the richest minerals, sodium\n",
        "# and potassium are minerals so we combine both columns\n",
        "# in a variable\n",
        "\n",
        "richest_minerals = pd.concat([rich_in_sodium, rich_in_potassium], axis=1)"
      ],
      "execution_count": 93,
      "outputs": []
    },
    {
      "cell_type": "code",
      "metadata": {
        "colab": {
          "base_uri": "https://localhost:8080/",
          "height": 358
        },
        "id": "SzBRWKPX5jHT",
        "outputId": "bcc4a945-79a8-4163-a0a5-685d24cc2930"
      },
      "source": [
        "richest_minerals"
      ],
      "execution_count": 94,
      "outputs": [
        {
          "output_type": "execute_result",
          "data": {
            "text/html": [
              "<div>\n",
              "<style scoped>\n",
              "    .dataframe tbody tr th:only-of-type {\n",
              "        vertical-align: middle;\n",
              "    }\n",
              "\n",
              "    .dataframe tbody tr th {\n",
              "        vertical-align: top;\n",
              "    }\n",
              "\n",
              "    .dataframe thead th {\n",
              "        text-align: right;\n",
              "    }\n",
              "</style>\n",
              "<table border=\"1\" class=\"dataframe\">\n",
              "  <thead>\n",
              "    <tr style=\"text-align: right;\">\n",
              "      <th></th>\n",
              "      <th>sodium</th>\n",
              "      <th>potass</th>\n",
              "    </tr>\n",
              "  </thead>\n",
              "  <tbody>\n",
              "    <tr>\n",
              "      <th>Corn Chex</th>\n",
              "      <td>280.0</td>\n",
              "      <td>NaN</td>\n",
              "    </tr>\n",
              "    <tr>\n",
              "      <th>Corn Flakes</th>\n",
              "      <td>290.0</td>\n",
              "      <td>NaN</td>\n",
              "    </tr>\n",
              "    <tr>\n",
              "      <th>Rice Krispies</th>\n",
              "      <td>290.0</td>\n",
              "      <td>NaN</td>\n",
              "    </tr>\n",
              "    <tr>\n",
              "      <th>Cheerios</th>\n",
              "      <td>290.0</td>\n",
              "      <td>NaN</td>\n",
              "    </tr>\n",
              "    <tr>\n",
              "      <th>Product 19</th>\n",
              "      <td>320.0</td>\n",
              "      <td>NaN</td>\n",
              "    </tr>\n",
              "    <tr>\n",
              "      <th>Raisin Bran</th>\n",
              "      <td>NaN</td>\n",
              "      <td>240.0</td>\n",
              "    </tr>\n",
              "    <tr>\n",
              "      <th>Post Nat. Raisin Bran</th>\n",
              "      <td>NaN</td>\n",
              "      <td>260.0</td>\n",
              "    </tr>\n",
              "    <tr>\n",
              "      <th>100% Bran</th>\n",
              "      <td>NaN</td>\n",
              "      <td>280.0</td>\n",
              "    </tr>\n",
              "    <tr>\n",
              "      <th>All-Bran</th>\n",
              "      <td>NaN</td>\n",
              "      <td>320.0</td>\n",
              "    </tr>\n",
              "    <tr>\n",
              "      <th>All-Bran with Extra Fiber</th>\n",
              "      <td>NaN</td>\n",
              "      <td>330.0</td>\n",
              "    </tr>\n",
              "  </tbody>\n",
              "</table>\n",
              "</div>"
            ],
            "text/plain": [
              "                           sodium  potass\n",
              "Corn Chex                   280.0     NaN\n",
              "Corn Flakes                 290.0     NaN\n",
              "Rice Krispies               290.0     NaN\n",
              "Cheerios                    290.0     NaN\n",
              "Product 19                  320.0     NaN\n",
              "Raisin Bran                   NaN   240.0\n",
              "Post Nat. Raisin Bran         NaN   260.0\n",
              "100% Bran                     NaN   280.0\n",
              "All-Bran                      NaN   320.0\n",
              "All-Bran with Extra Fiber     NaN   330.0"
            ]
          },
          "metadata": {
            "tags": []
          },
          "execution_count": 94
        }
      ]
    },
    {
      "cell_type": "code",
      "metadata": {
        "colab": {
          "base_uri": "https://localhost:8080/",
          "height": 410
        },
        "id": "Pc_Ufwjy54hJ",
        "outputId": "2989fdb8-9580-47b4-865a-b2cc560386aa"
      },
      "source": [
        "# barchart for better visualization on the richest cereals\n",
        "\n",
        "richest_minerals.plot(kind='bar', title=\"Richest mineral cereals\")"
      ],
      "execution_count": 95,
      "outputs": [
        {
          "output_type": "execute_result",
          "data": {
            "text/plain": [
              "<matplotlib.axes._subplots.AxesSubplot at 0x7fe9c1144990>"
            ]
          },
          "metadata": {
            "tags": []
          },
          "execution_count": 95
        },
        {
          "output_type": "display_data",
          "data": {
            "image/png": "[encoded data removed]",
            "text/plain": [
              "<Figure size 432x288 with 1 Axes>"
            ]
          },
          "metadata": {
            "tags": [],
            "needs_background": "light"
          }
        }
      ]
    },
    {
      "cell_type": "markdown",
      "metadata": {
        "id": "VZFbGKD_7WdR"
      },
      "source": [
        "the barchart shows the richest cereals in potassium and richest cereals in\n",
        "sodium combined. It can be noted that no cereal had high values in both \n",
        "potassium and sodium"
      ]
    },
    {
      "cell_type": "code",
      "metadata": {
        "colab": {
          "base_uri": "https://localhost:8080/",
          "height": 299
        },
        "id": "XbGy3nm468h4",
        "outputId": "99ee2844-1368-4cd7-c4ed-caca0f1ecf94"
      },
      "source": [
        "# histogram for better visualization on the richest cereals\n",
        "\n",
        "richest_minerals.plot(kind='hist', title=\"Richest mineral cereals\")"
      ],
      "execution_count": 96,
      "outputs": [
        {
          "output_type": "execute_result",
          "data": {
            "text/plain": [
              "<matplotlib.axes._subplots.AxesSubplot at 0x7fe9c20fe1d0>"
            ]
          },
          "metadata": {
            "tags": []
          },
          "execution_count": 96
        },
        {
          "output_type": "display_data",
          "data": {
            "image/png": "[encoded data removed]",
            "text/plain": [
              "<Figure size 432x288 with 1 Axes>"
            ]
          },
          "metadata": {
            "tags": [],
            "needs_background": "light"
          }
        }
      ]
    },
    {
      "cell_type": "markdown",
      "metadata": {
        "id": "YnnGOcdX7tHN"
      },
      "source": [
        "we tried to plot a histogram to show the frequency of values but some values of sodium were not obvious because they overlapped with those that had high soium of the same value. Hence, we think a histogram is not well-\n",
        "suited for representing thhe information we gained"
      ]
    },
    {
      "cell_type": "code",
      "metadata": {
        "colab": {
          "base_uri": "https://localhost:8080/",
          "height": 437
        },
        "id": "Sd1-UMpW8Jm7",
        "outputId": "8ef9ddda-9d85-46bf-c17f-0b6480c165aa"
      },
      "source": [
        "# piechart to show the fraction of the mineral values each of the top 10\n",
        "# (remember no cereal has both high sodium and potassium) richest \n",
        "# cereal has\n",
        "\n",
        "plot_3 = richest_minerals.plot.pie(subplots=True, figsize=(16,16))"
      ],
      "execution_count": 100,
      "outputs": [
        {
          "output_type": "display_data",
          "data": {
            "image/png": "[encoded data removed]",
            "text/plain": [
              "<Figure size 1152x1152 with 2 Axes>"
            ]
          },
          "metadata": {
            "tags": []
          }
        }
      ]
    },
    {
      "cell_type": "markdown",
      "metadata": {
        "id": "gsrylmUk_4NM"
      },
      "source": [
        "since the piechart can show the top 5 sodium-rich and potassium-rich mineral cereals effectively, it is more preferrable to a histogram"
      ]
    },
    {
      "cell_type": "code",
      "metadata": {
        "id": "Wn-qe8UrAHZE"
      },
      "source": [
        "# to get our top 5 fat-rich cereals, we'll assign the fat column \n",
        "# to a variable\n",
        "\n",
        "fat = df['fat']"
      ],
      "execution_count": 103,
      "outputs": []
    },
    {
      "cell_type": "code",
      "metadata": {
        "colab": {
          "base_uri": "https://localhost:8080/"
        },
        "id": "HR_UI0ZrBO-d",
        "outputId": "273c2821-4022-4e9a-c02c-b1a416ab4c33"
      },
      "source": [
        "fat"
      ],
      "execution_count": 104,
      "outputs": [
        {
          "output_type": "execute_result",
          "data": {
            "text/plain": [
              "name\n",
              "100% Bran                    1\n",
              "100% Natural Bran            5\n",
              "All-Bran                     1\n",
              "All-Bran with Extra Fiber    0\n",
              "Almond Delight               2\n",
              "                            ..\n",
              "Triples                      1\n",
              "Trix                         1\n",
              "Wheat Chex                   1\n",
              "Wheaties                     1\n",
              "Wheaties Honey Gold          1\n",
              "Name: fat, Length: 77, dtype: int64"
            ]
          },
          "metadata": {
            "tags": []
          },
          "execution_count": 104
        }
      ]
    },
    {
      "cell_type": "code",
      "metadata": {
        "colab": {
          "base_uri": "https://localhost:8080/"
        },
        "id": "xNX4Vk9SBZPN",
        "outputId": "bc0edab0-3843-4973-fb72-71bd1e02d344"
      },
      "source": [
        "# we would then sort the values and extract our last 5 columns\n",
        "\n",
        "richest_fat = fat.sort_values().tail()\n",
        "richest_fat"
      ],
      "execution_count": 106,
      "outputs": [
        {
          "output_type": "execute_result",
          "data": {
            "text/plain": [
              "name\n",
              "Cinnamon Toast Crunch                3\n",
              "Muesli Raisins; Peaches; & Pecans    3\n",
              "Muesli Raisins; Dates; & Almonds     3\n",
              "Cracklin' Oat Bran                   3\n",
              "100% Natural Bran                    5\n",
              "Name: fat, dtype: int64"
            ]
          },
          "metadata": {
            "tags": []
          },
          "execution_count": 106
        }
      ]
    },
    {
      "cell_type": "code",
      "metadata": {
        "colab": {
          "base_uri": "https://localhost:8080/",
          "height": 474
        },
        "id": "npR0jHK4BvBT",
        "outputId": "cde0ab88-df21-4e4b-ff2b-28d961bed823"
      },
      "source": [
        "# bar chart to visualize the values better\n",
        "\n",
        "richest_fat.plot(kind='bar', title=\"Richest fat cereals\")"
      ],
      "execution_count": 108,
      "outputs": [
        {
          "output_type": "execute_result",
          "data": {
            "text/plain": [
              "<matplotlib.axes._subplots.AxesSubplot at 0x7fe9c0a6c6d0>"
            ]
          },
          "metadata": {
            "tags": []
          },
          "execution_count": 108
        },
        {
          "output_type": "display_data",
          "data": {
            "image/png": "[encoded data removed]",
            "text/plain": [
              "<Figure size 432x288 with 1 Axes>"
            ]
          },
          "metadata": {
            "tags": [],
            "needs_background": "light"
          }
        }
      ]
    },
    {
      "cell_type": "code",
      "metadata": {
        "colab": {
          "base_uri": "https://localhost:8080/",
          "height": 299
        },
        "id": "Xv5M8fnPCLC6",
        "outputId": "8510f3d0-277f-4a2b-e289-5d38a412ef73"
      },
      "source": [
        "# histogram to get the frequencies of the values\n",
        "\n",
        "richest_fat.plot(kind=\"hist\", title=\"Richest fat cereals\")"
      ],
      "execution_count": 109,
      "outputs": [
        {
          "output_type": "execute_result",
          "data": {
            "text/plain": [
              "<matplotlib.axes._subplots.AxesSubplot at 0x7fe9c0a4e6d0>"
            ]
          },
          "metadata": {
            "tags": []
          },
          "execution_count": 109
        },
        {
          "output_type": "display_data",
          "data": {
            "image/png": "[encoded data removed]",
            "text/plain": [
              "<Figure size 432x288 with 1 Axes>"
            ]
          },
          "metadata": {
            "tags": [],
            "needs_background": "light"
          }
        }
      ]
    },
    {
      "cell_type": "markdown",
      "metadata": {
        "id": "iqmOhMSNCW4I"
      },
      "source": [
        "the histogram shows that four cereals; Cinnamon Toast Crunch, Muesli Raisins, Peaches & Pecans, Muesli Raisins, Dates, & Almonds and\n",
        "Cracklin' Oat Bran have a fat value of 3 and one (100% Natural Bran) has a fat value of 5"
      ]
    },
    {
      "cell_type": "code",
      "metadata": {
        "colab": {
          "base_uri": "https://localhost:8080/",
          "height": 466
        },
        "id": "uWAxXXzQC4Bv",
        "outputId": "eed83f79-e80f-45cb-bd5d-2cd86e6fc1ed"
      },
      "source": [
        "# piechart to show the fraction of the fat values each of the top 5\n",
        "# cereals have\n",
        "\n",
        "plot_4 = richest_fat.plot.pie(y='fat', figsize=(8,8))"
      ],
      "execution_count": 110,
      "outputs": [
        {
          "output_type": "display_data",
          "data": {
            "image/png": "[encoded data removed]",
            "text/plain": [
              "<Figure size 576x576 with 1 Axes>"
            ]
          },
          "metadata": {
            "tags": []
          }
        }
      ]
    },
    {
      "cell_type": "code",
      "metadata": {
        "id": "RGRF3Hj_DZHo"
      },
      "source": [
        "# to extract the fiber column into a series\n",
        "\n",
        "fibre = df['fiber']"
      ],
      "execution_count": 112,
      "outputs": []
    },
    {
      "cell_type": "code",
      "metadata": {
        "id": "wWfBDYqpEO1e"
      },
      "source": [
        "# to get the cereals with the top 5 values\n",
        "\n",
        "richest_fibres = fibre.sort_values().tail()"
      ],
      "execution_count": 113,
      "outputs": []
    },
    {
      "cell_type": "code",
      "metadata": {
        "colab": {
          "base_uri": "https://localhost:8080/"
        },
        "id": "-xXE1eyHEfwK",
        "outputId": "80c0846f-3fdb-42cf-f2f9-6f5763ebcd08"
      },
      "source": [
        "richest_fibres"
      ],
      "execution_count": 114,
      "outputs": [
        {
          "output_type": "execute_result",
          "data": {
            "text/plain": [
              "name\n",
              "Raisin Bran                   5.0\n",
              "Post Nat. Raisin Bran         6.0\n",
              "All-Bran                      9.0\n",
              "100% Bran                    10.0\n",
              "All-Bran with Extra Fiber    14.0\n",
              "Name: fiber, dtype: float64"
            ]
          },
          "metadata": {
            "tags": []
          },
          "execution_count": 114
        }
      ]
    },
    {
      "cell_type": "code",
      "metadata": {
        "colab": {
          "base_uri": "https://localhost:8080/",
          "height": 424
        },
        "id": "8NUlK2FUEooy",
        "outputId": "1376003b-85af-482e-8265-b4a7fba97752"
      },
      "source": [
        "# bar chart to visualize the values better\n",
        "\n",
        "richest_fibres.plot(kind='bar', title=\"Richest fibre cereals\")"
      ],
      "execution_count": 115,
      "outputs": [
        {
          "output_type": "execute_result",
          "data": {
            "text/plain": [
              "<matplotlib.axes._subplots.AxesSubplot at 0x7fe9c08ee390>"
            ]
          },
          "metadata": {
            "tags": []
          },
          "execution_count": 115
        },
        {
          "output_type": "display_data",
          "data": {
            "image/png": "[encoded data removed]",
            "text/plain": [
              "<Figure size 432x288 with 1 Axes>"
            ]
          },
          "metadata": {
            "tags": [],
            "needs_background": "light"
          }
        }
      ]
    },
    {
      "cell_type": "code",
      "metadata": {
        "colab": {
          "base_uri": "https://localhost:8080/",
          "height": 299
        },
        "id": "DaYW_--XEzat",
        "outputId": "0a3ce078-cc88-4fe3-84fa-12e747fc5ad8"
      },
      "source": [
        "# histogram to visualize the frequencies of the values\n",
        "\n",
        "richest_fibres.plot(kind='hist', title=\"Richest fibre cereals\")"
      ],
      "execution_count": 116,
      "outputs": [
        {
          "output_type": "execute_result",
          "data": {
            "text/plain": [
              "<matplotlib.axes._subplots.AxesSubplot at 0x7fe9c08c89d0>"
            ]
          },
          "metadata": {
            "tags": []
          },
          "execution_count": 116
        },
        {
          "output_type": "display_data",
          "data": {
            "image/png": "[encoded data removed]",
            "text/plain": [
              "<Figure size 432x288 with 1 Axes>"
            ]
          },
          "metadata": {
            "tags": [],
            "needs_background": "light"
          }
        }
      ]
    },
    {
      "cell_type": "markdown",
      "metadata": {
        "id": "vbGbbL_SF-gg"
      },
      "source": [
        "the histogram shows that all the cereals with high fibre content have values that occurred once "
      ]
    },
    {
      "cell_type": "code",
      "metadata": {
        "colab": {
          "base_uri": "https://localhost:8080/",
          "height": 466
        },
        "id": "1x5k8MkjGL0L",
        "outputId": "6b5a0263-9961-4272-8350-d1ae1e019abb"
      },
      "source": [
        "# piechart to show the fraction of the fibre values each of the top 5\n",
        "# cereals have\n",
        "\n",
        "plot_5 = richest_fibres.plot.pie(y='fiber', figsize=(8,8))"
      ],
      "execution_count": 118,
      "outputs": [
        {
          "output_type": "display_data",
          "data": {
            "image/png": "[encoded data removed]",
            "text/plain": [
              "<Figure size 576x576 with 1 Axes>"
            ]
          },
          "metadata": {
            "tags": []
          }
        }
      ]
    }
  ]
}