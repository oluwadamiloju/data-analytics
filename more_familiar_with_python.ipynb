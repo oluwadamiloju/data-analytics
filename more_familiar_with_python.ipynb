{
  "nbformat": 4,
  "nbformat_minor": 0,
  "metadata": {
    "colab": {
      "name": "more_familiar_with_python.ipynb",
      "provenance": [],
      "authorship_tag": "ABX9TyOjJKVFxhXbqkPB0Z8IKB9O",
      "include_colab_link": true
    },
    "kernelspec": {
      "name": "python3",
      "display_name": "Python 3"
    },
    "language_info": {
      "name": "python"
    }
  },
  "cells": [
    {
      "cell_type": "markdown",
      "metadata": {
        "id": "view-in-github",
        "colab_type": "text"
      },
      "source": [
        "<a href=\"https://colab.research.google.com/github/oluwadamiloju/intro-to-data-analytics/blob/main/more_familiar_with_python.ipynb\" target=\"_parent\"><img src=\"https://colab.research.google.com/assets/colab-badge.svg\" alt=\"Open In Colab\"/></a>"
      ]
    },
    {
      "cell_type": "code",
      "metadata": {
        "colab": {
          "base_uri": "https://localhost:8080/"
        },
        "id": "WVpBSZ8rGetS",
        "outputId": "1e44b3ba-0498-4344-ad53-2f38459bc9ff"
      },
      "source": [
        "# Given two integer numbers, return their product. If the product is \n",
        "# greater than 1000, return their sum\n",
        "a = int(input(\"Enter a number:\" ))\n",
        "b = int(input(\"Enter another number:\" ))\n",
        "product = a * b\n",
        "sum = a + b\n",
        "if product > 1000:\n",
        "  print(sum)\n",
        "else:\n",
        "  print(product)"
      ],
      "execution_count": 2,
      "outputs": [
        {
          "output_type": "stream",
          "text": [
            "Enter a number:20\n",
            "Enter another number:500\n",
            "10000\n",
            "520\n"
          ],
          "name": "stdout"
        }
      ]
    },
    {
      "cell_type": "code",
      "metadata": {
        "colab": {
          "base_uri": "https://localhost:8080/"
        },
        "id": "T-kKR2fJH4P-",
        "outputId": "153e81ec-2535-4382-eddd-488d8a06674a"
      },
      "source": [
        "# Given a string, display only those characters which are present at an \n",
        "# even index number\n",
        "\n",
        "sample_string = input(\"Enter a string: \")\n",
        "index = 0\n",
        "for i in sample_string:\n",
        "  index += 1\n",
        "  if index % 2 != 0:\n",
        "    print(i) "
      ],
      "execution_count": 3,
      "outputs": [
        {
          "output_type": "stream",
          "text": [
            "Enter a string: sarah\n",
            "s\n",
            "r\n",
            "h\n"
          ],
          "name": "stdout"
        }
      ]
    },
    {
      "cell_type": "code",
      "metadata": {
        "colab": {
          "base_uri": "https://localhost:8080/"
        },
        "id": "RPgp2svJLNvK",
        "outputId": "e98e68a6-c84f-4229-955b-42c6f94e51db"
      },
      "source": [
        "# Print multiplication table from 1 to 10\n",
        "\n",
        "for i in range(1, 11):\n",
        "  for j in range(1, 13):\n",
        "    print(i * j, end=\" \")\n",
        "\n",
        "    if j == 12:\n",
        "      print(\"\\n\")"
      ],
      "execution_count": 10,
      "outputs": [
        {
          "output_type": "stream",
          "text": [
            "1 2 3 4 5 6 7 8 9 10 11 12 \n",
            "\n",
            "2 4 6 8 10 12 14 16 18 20 22 24 \n",
            "\n",
            "3 6 9 12 15 18 21 24 27 30 33 36 \n",
            "\n",
            "4 8 12 16 20 24 28 32 36 40 44 48 \n",
            "\n",
            "5 10 15 20 25 30 35 40 45 50 55 60 \n",
            "\n",
            "6 12 18 24 30 36 42 48 54 60 66 72 \n",
            "\n",
            "7 14 21 28 35 42 49 56 63 70 77 84 \n",
            "\n",
            "8 16 24 32 40 48 56 64 72 80 88 96 \n",
            "\n",
            "9 18 27 36 45 54 63 72 81 90 99 108 \n",
            "\n",
            "10 20 30 40 50 60 70 80 90 100 110 120 \n",
            "\n"
          ],
          "name": "stdout"
        }
      ]
    },
    {
      "cell_type": "code",
      "metadata": {
        "colab": {
          "base_uri": "https://localhost:8080/"
        },
        "id": "vsLqfnkgNL66",
        "outputId": "f1d8c63b-d815-41fe-dcf1-c3271aead0ec"
      },
      "source": [
        "# Write a function called exponent(base, exp) that returns an int value  \n",
        "# of base to the power of exp\n",
        "\n",
        "def exponent(base, exp):\n",
        "    return base ** exp\n",
        "\n",
        "\n",
        "base = int(input(\"Enter a base number: \"))\n",
        "exp = int(input(\"Enter the power for the base: \"))\n",
        "exponent(base, exp)"
      ],
      "execution_count": 12,
      "outputs": [
        {
          "output_type": "stream",
          "text": [
            "Enter a base number: 2\n",
            "Enter the power for the base: 2\n"
          ],
          "name": "stdout"
        },
        {
          "output_type": "execute_result",
          "data": {
            "text/plain": [
              "4"
            ]
          },
          "metadata": {
            "tags": []
          },
          "execution_count": 12
        }
      ]
    },
    {
      "cell_type": "code",
      "metadata": {
        "colab": {
          "base_uri": "https://localhost:8080/"
        },
        "id": "9tuv0FI_PDAT",
        "outputId": "fa444333-e2c1-4122-f68b-1d1d4ca4ecb5"
      },
      "source": [
        "# Given a list, reverse it\n",
        "sample_list = [1, 2, 3, 4, 5, 6, 7, 8, 9, 10]\n",
        "\n",
        "for a in sample_list[::-1]:\n",
        "  print(a, end=\" \")"
      ],
      "execution_count": 29,
      "outputs": [
        {
          "output_type": "stream",
          "text": [
            "10 9 8 7 6 5 4 3 2 1 "
          ],
          "name": "stdout"
        }
      ]
    },
    {
      "cell_type": "code",
      "metadata": {
        "colab": {
          "base_uri": "https://localhost:8080/"
        },
        "id": "lSQEiAaFPjBe",
        "outputId": "26ce360b-46df-4ac7-810f-a7c07de25ae4"
      },
      "source": [
        "# Given a python list, find value 20 in the list, and if it is present, \n",
        "# replace it with 200. Only update the first occurrence of a value\n",
        "\n",
        "a_sample_list = [1, 3, 2, 5, 33, 4, 7, 20]\n",
        "count = 0;\n",
        "for t in a_sample_list:\n",
        "  count +=1\n",
        "  if t == 20:\n",
        "    a_sample_list[count-1] = 200\n",
        "    break\n",
        "print(a_sample_list) \n",
        "# for x in a_sample_list:"
      ],
      "execution_count": 87,
      "outputs": [
        {
          "output_type": "stream",
          "text": [
            "[1, 3, 2, 5, 33, 4, 7, 200]\n"
          ],
          "name": "stdout"
        }
      ]
    },
    {
      "cell_type": "code",
      "metadata": {
        "id": "AqfHuKuaP1B7"
      },
      "source": [
        "# Write a program to display all prime numbers within a given range\n",
        "isPrime = True\n",
        "\n",
        "# for s in range(2, 102):\n",
        "#   for t in range(2, 11):\n",
        "#     if s % t == 0 and s is not t:\n",
        "#       isPrime = False\n",
        "#   if isPrime == True:\n",
        "#     print(s, \" is a prime number\")\n",
        "\n",
        "count = 2 \n",
        "for i in range(10):\n",
        "  if i % count == 0 & i is not count:\n",
        "    isPrime = False\n",
        "  count+=1\n",
        "  while isPrime is True:\n",
        "      print(i, \"Is prime Number\")\n"
      ],
      "execution_count": 89,
      "outputs": []
    },
    {
      "cell_type": "code",
      "metadata": {
        "colab": {
          "base_uri": "https://localhost:8080/"
        },
        "id": "SaIan19uQAMq",
        "outputId": "6c27bc90-b493-4c2f-caa6-21e70446e469"
      },
      "source": [
        "# Write a function calculation() such that it can accept two variables and\n",
        "# calculate the addition and subtraction of them. And also it must return \n",
        "# addition and subtraction in a single return call\n",
        "\n",
        "def calculation(firstNumber, secondNumber):\n",
        "  return [firstNumber + secondNumber, firstNumber - secondNumber]\n",
        "\n",
        "\n",
        "firstNumber = int(input(\"Enter a number: \"))\n",
        "secondNumber = int(input(\"Enter another number: \"))\n",
        "calculation(firstNumber, secondNumber)\n"
      ],
      "execution_count": 50,
      "outputs": [
        {
          "output_type": "stream",
          "text": [
            "Enter a number: 5\n",
            "Enter another number: 2\n"
          ],
          "name": "stdout"
        },
        {
          "output_type": "execute_result",
          "data": {
            "text/plain": [
              "[7, 3]"
            ]
          },
          "metadata": {
            "tags": []
          },
          "execution_count": 50
        }
      ]
    },
    {
      "cell_type": "code",
      "metadata": {
        "colab": {
          "base_uri": "https://localhost:8080/"
        },
        "id": "-JW1kzzyQaYu",
        "outputId": "182f6ede-8c4a-4b9d-aaf7-84dd8063cae1"
      },
      "source": [
        "# Display numbers from -10 to -1 using for loop\n",
        "\n",
        "for i in range (-10, 0):\n",
        "  print(i)"
      ],
      "execution_count": 13,
      "outputs": [
        {
          "output_type": "stream",
          "text": [
            "-10\n",
            "-9\n",
            "-8\n",
            "-7\n",
            "-6\n",
            "-5\n",
            "-4\n",
            "-3\n",
            "-2\n",
            "-1\n"
          ],
          "name": "stdout"
        }
      ]
    },
    {
      "cell_type": "code",
      "metadata": {
        "colab": {
          "base_uri": "https://localhost:8080/"
        },
        "id": "_xS74m0zQnLq",
        "outputId": "d602e183-bbb1-45c2-8370-e989a74682bf"
      },
      "source": [
        "# Given a list, iterate it, and display numbers divisible by five and if\n",
        "# you find a number greater than 150, stop the loop iteration\n",
        "\n",
        "another_list = [1, 5, 10, 12, 170, 25]\n",
        "\n",
        "for x in another_list:\n",
        "  if x % 5 == 0:\n",
        "    print(x)\n",
        "  if x > 150:\n",
        "    break"
      ],
      "execution_count": 14,
      "outputs": [
        {
          "output_type": "stream",
          "text": [
            "5\n",
            "10\n",
            "170\n"
          ],
          "name": "stdout"
        }
      ]
    }
  ]
}